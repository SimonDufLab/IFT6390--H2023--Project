{
  "nbformat": 4,
  "nbformat_minor": 0,
  "metadata": {
    "colab": {
      "provenance": []
    },
    "kernelspec": {
      "name": "python3",
      "display_name": "Python 3"
    },
    "language_info": {
      "name": "python"
    }
  },
  "cells": [
    {
      "cell_type": "markdown",
      "source": [
        "## Installing github repo as package\n",
        "\n",
        "To quickly install as a librabry a github package like Flex, you can simply run:"
      ],
      "metadata": {
        "id": "MsxNAuRalYbl"
      }
    },
    {
      "cell_type": "code",
      "execution_count": null,
      "metadata": {
        "id": "rTGkalG1lT2m"
      },
      "outputs": [],
      "source": [
        "!pip install git+https://github.com/samsinai/FLEXS\n",
        "\n",
        "# It allows the following import:\n",
        "import flexs\n",
        "from flexs import baselines\n",
        "import flexs.utils.sequence_utils as s_utils"
      ]
    },
    {
      "cell_type": "markdown",
      "source": [
        "## Importing the data\n",
        "\n",
        "You can use pandas to quickly retrieve the dataset directly from the project github:"
      ],
      "metadata": {
        "id": "7tf2s1f9mF1e"
      }
    },
    {
      "cell_type": "code",
      "source": [
        "training_data_pth = \"https://raw.githubusercontent.com/SimonDufLab/IFT6390--H2023--Project/main/training_data.csv\"\n",
        "test_data_pth = \"https://raw.githubusercontent.com/SimonDufLab/IFT6390--H2023--Project/main/test_data.csv\""
      ],
      "metadata": {
        "id": "oaMI9MLdmFL9"
      },
      "execution_count": 2,
      "outputs": []
    },
    {
      "cell_type": "code",
      "source": [
        "import pandas\n",
        "\n",
        "training_data = pandas.read_csv(training_data_pth, usecols=[1,2,3])\n",
        "test_data = pandas.read_csv(test_data_pth, usecols=[1,2,3])\n",
        "\n",
        "print(f\"Training dataset contains {len(training_data)} examples\")\n",
        "print(f\"Test dataset contains {len(test_data)} examples\")\n",
        "training_data.head(10)"
      ],
      "metadata": {
        "colab": {
          "base_uri": "https://localhost:8080/",
          "height": 398
        },
        "id": "BsKt77PlnCAw",
        "outputId": "f0c41e7b-7aa5-4ab0-db3f-729652f6cff7"
      },
      "execution_count": 6,
      "outputs": [
        {
          "output_type": "stream",
          "name": "stdout",
          "text": [
            "Training dataset contains 299307 examples\n",
            "Test dataset contains 58339 examples\n"
          ]
        },
        {
          "output_type": "execute_result",
          "data": {
            "text/plain": [
              "  starting_seq   binding   fitness\n",
              "0     GCTCGAGC  GCAAAGGC  0.328104\n",
              "1     GCTCGAGC  AGGTAATA  0.732033\n",
              "2     GCTCGAGC  TCACTATA  0.739599\n",
              "3     GCTCGAGC  GGTCAAGG  0.273719\n",
              "4     GCTCGAGC  AAAAGACG  0.466293\n",
              "5     GCTCGAGC  CCGCGTTA  0.311858\n",
              "6     GCTCGAGC  AGCTACCG  0.238455\n",
              "7     GCTCGAGC  GGTCCATA  0.391704\n",
              "8     GCTCGAGC  ACCGGAGA  0.562085\n",
              "9     GCTCGAGC  TATCGGGG  0.868779"
            ],
            "text/html": [
              "\n",
              "  <div id=\"df-962f131b-928f-465f-a79f-e9149abb920f\">\n",
              "    <div class=\"colab-df-container\">\n",
              "      <div>\n",
              "<style scoped>\n",
              "    .dataframe tbody tr th:only-of-type {\n",
              "        vertical-align: middle;\n",
              "    }\n",
              "\n",
              "    .dataframe tbody tr th {\n",
              "        vertical-align: top;\n",
              "    }\n",
              "\n",
              "    .dataframe thead th {\n",
              "        text-align: right;\n",
              "    }\n",
              "</style>\n",
              "<table border=\"1\" class=\"dataframe\">\n",
              "  <thead>\n",
              "    <tr style=\"text-align: right;\">\n",
              "      <th></th>\n",
              "      <th>starting_seq</th>\n",
              "      <th>binding</th>\n",
              "      <th>fitness</th>\n",
              "    </tr>\n",
              "  </thead>\n",
              "  <tbody>\n",
              "    <tr>\n",
              "      <th>0</th>\n",
              "      <td>GCTCGAGC</td>\n",
              "      <td>GCAAAGGC</td>\n",
              "      <td>0.328104</td>\n",
              "    </tr>\n",
              "    <tr>\n",
              "      <th>1</th>\n",
              "      <td>GCTCGAGC</td>\n",
              "      <td>AGGTAATA</td>\n",
              "      <td>0.732033</td>\n",
              "    </tr>\n",
              "    <tr>\n",
              "      <th>2</th>\n",
              "      <td>GCTCGAGC</td>\n",
              "      <td>TCACTATA</td>\n",
              "      <td>0.739599</td>\n",
              "    </tr>\n",
              "    <tr>\n",
              "      <th>3</th>\n",
              "      <td>GCTCGAGC</td>\n",
              "      <td>GGTCAAGG</td>\n",
              "      <td>0.273719</td>\n",
              "    </tr>\n",
              "    <tr>\n",
              "      <th>4</th>\n",
              "      <td>GCTCGAGC</td>\n",
              "      <td>AAAAGACG</td>\n",
              "      <td>0.466293</td>\n",
              "    </tr>\n",
              "    <tr>\n",
              "      <th>5</th>\n",
              "      <td>GCTCGAGC</td>\n",
              "      <td>CCGCGTTA</td>\n",
              "      <td>0.311858</td>\n",
              "    </tr>\n",
              "    <tr>\n",
              "      <th>6</th>\n",
              "      <td>GCTCGAGC</td>\n",
              "      <td>AGCTACCG</td>\n",
              "      <td>0.238455</td>\n",
              "    </tr>\n",
              "    <tr>\n",
              "      <th>7</th>\n",
              "      <td>GCTCGAGC</td>\n",
              "      <td>GGTCCATA</td>\n",
              "      <td>0.391704</td>\n",
              "    </tr>\n",
              "    <tr>\n",
              "      <th>8</th>\n",
              "      <td>GCTCGAGC</td>\n",
              "      <td>ACCGGAGA</td>\n",
              "      <td>0.562085</td>\n",
              "    </tr>\n",
              "    <tr>\n",
              "      <th>9</th>\n",
              "      <td>GCTCGAGC</td>\n",
              "      <td>TATCGGGG</td>\n",
              "      <td>0.868779</td>\n",
              "    </tr>\n",
              "  </tbody>\n",
              "</table>\n",
              "</div>\n",
              "      <button class=\"colab-df-convert\" onclick=\"convertToInteractive('df-962f131b-928f-465f-a79f-e9149abb920f')\"\n",
              "              title=\"Convert this dataframe to an interactive table.\"\n",
              "              style=\"display:none;\">\n",
              "        \n",
              "  <svg xmlns=\"http://www.w3.org/2000/svg\" height=\"24px\"viewBox=\"0 0 24 24\"\n",
              "       width=\"24px\">\n",
              "    <path d=\"M0 0h24v24H0V0z\" fill=\"none\"/>\n",
              "    <path d=\"M18.56 5.44l.94 2.06.94-2.06 2.06-.94-2.06-.94-.94-2.06-.94 2.06-2.06.94zm-11 1L8.5 8.5l.94-2.06 2.06-.94-2.06-.94L8.5 2.5l-.94 2.06-2.06.94zm10 10l.94 2.06.94-2.06 2.06-.94-2.06-.94-.94-2.06-.94 2.06-2.06.94z\"/><path d=\"M17.41 7.96l-1.37-1.37c-.4-.4-.92-.59-1.43-.59-.52 0-1.04.2-1.43.59L10.3 9.45l-7.72 7.72c-.78.78-.78 2.05 0 2.83L4 21.41c.39.39.9.59 1.41.59.51 0 1.02-.2 1.41-.59l7.78-7.78 2.81-2.81c.8-.78.8-2.07 0-2.86zM5.41 20L4 18.59l7.72-7.72 1.47 1.35L5.41 20z\"/>\n",
              "  </svg>\n",
              "      </button>\n",
              "      \n",
              "  <style>\n",
              "    .colab-df-container {\n",
              "      display:flex;\n",
              "      flex-wrap:wrap;\n",
              "      gap: 12px;\n",
              "    }\n",
              "\n",
              "    .colab-df-convert {\n",
              "      background-color: #E8F0FE;\n",
              "      border: none;\n",
              "      border-radius: 50%;\n",
              "      cursor: pointer;\n",
              "      display: none;\n",
              "      fill: #1967D2;\n",
              "      height: 32px;\n",
              "      padding: 0 0 0 0;\n",
              "      width: 32px;\n",
              "    }\n",
              "\n",
              "    .colab-df-convert:hover {\n",
              "      background-color: #E2EBFA;\n",
              "      box-shadow: 0px 1px 2px rgba(60, 64, 67, 0.3), 0px 1px 3px 1px rgba(60, 64, 67, 0.15);\n",
              "      fill: #174EA6;\n",
              "    }\n",
              "\n",
              "    [theme=dark] .colab-df-convert {\n",
              "      background-color: #3B4455;\n",
              "      fill: #D2E3FC;\n",
              "    }\n",
              "\n",
              "    [theme=dark] .colab-df-convert:hover {\n",
              "      background-color: #434B5C;\n",
              "      box-shadow: 0px 1px 3px 1px rgba(0, 0, 0, 0.15);\n",
              "      filter: drop-shadow(0px 1px 2px rgba(0, 0, 0, 0.3));\n",
              "      fill: #FFFFFF;\n",
              "    }\n",
              "  </style>\n",
              "\n",
              "      <script>\n",
              "        const buttonEl =\n",
              "          document.querySelector('#df-962f131b-928f-465f-a79f-e9149abb920f button.colab-df-convert');\n",
              "        buttonEl.style.display =\n",
              "          google.colab.kernel.accessAllowed ? 'block' : 'none';\n",
              "\n",
              "        async function convertToInteractive(key) {\n",
              "          const element = document.querySelector('#df-962f131b-928f-465f-a79f-e9149abb920f');\n",
              "          const dataTable =\n",
              "            await google.colab.kernel.invokeFunction('convertToInteractive',\n",
              "                                                     [key], {});\n",
              "          if (!dataTable) return;\n",
              "\n",
              "          const docLinkHtml = 'Like what you see? Visit the ' +\n",
              "            '<a target=\"_blank\" href=https://colab.research.google.com/notebooks/data_table.ipynb>data table notebook</a>'\n",
              "            + ' to learn more about interactive tables.';\n",
              "          element.innerHTML = '';\n",
              "          dataTable['output_type'] = 'display_data';\n",
              "          await google.colab.output.renderOutput(dataTable, element);\n",
              "          const docLink = document.createElement('div');\n",
              "          docLink.innerHTML = docLinkHtml;\n",
              "          element.appendChild(docLink);\n",
              "        }\n",
              "      </script>\n",
              "    </div>\n",
              "  </div>\n",
              "  "
            ]
          },
          "metadata": {},
          "execution_count": 6
        }
      ]
    },
    {
      "cell_type": "code",
      "source": [],
      "metadata": {
        "id": "oFKqcZVKnMMZ"
      },
      "execution_count": null,
      "outputs": []
    }
  ]
}